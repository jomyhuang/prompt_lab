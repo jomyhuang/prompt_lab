{
 "cells": [
  {
   "cell_type": "markdown",
   "metadata": {},
   "source": [
    "# LangChain 卡牌效果生成器\n",
    "\n",
    "本 notebook 演示如何使用 LangChain 和大语言模型来生成卡牌效果。"
   ]
  },
  {
   "cell_type": "code",
   "execution_count": null,
   "metadata": {},
   "source": [
    "# 导入必要的库\n",
    "from typing import Dict, List, Any, Union, Optional\n",
    "from langchain.prompts import PromptTemplate\n",
    "from langchain.output_parsers import PydanticOutputParser\n",
    "from langchain.llms import OpenAI\n",
    "from langchain.chat_models import ChatOpenAI\n",
    "from langchain.chains import LLMChain\n",
    "from pydantic import BaseModel, Field, validator\n",
    "import os"
   ]
  },
  {
   "cell_type": "markdown",
   "metadata": {},
   "source": [
    "## 1. 设置环境变量\n",
    "请确保设置了您的 OpenAI API 密钥"
   ]
  },
  {
   "cell_type": "code",
   "execution_count": null,
   "metadata": {},
   "source": [
    "# 设置 OpenAI API 密钥\n",
    "# os.environ[\"OPENAI_API_KEY\"] = \"your-api-key-here\"\n",
    "\n",
    "# 初始化 LLM\n",
    "llm = ChatOpenAI(\n",
    "    temperature=0.7,\n",
    "    model_name=\"gpt-3.5-turbo\"\n",
    ")"
   ]
  },
  {
   "cell_type": "markdown",
   "metadata": {},
   "source": [
    "## 2. 定义数据模型"
   ]
  },
  {
   "cell_type": "code",
   "execution_count": null,
   "metadata": {},
   "source": [
    "class CardEffect(BaseModel):\n",
    "    effect_type: str = Field(..., description=\"效果类型\")\n",
    "    target_type: str = Field(..., description=\"目标类型\")\n",
    "    value: Union[int, str] = Field(..., description=\"效果值\")\n",
    "    condition: Optional[str] = Field(None, description=\"触发条件\")\n",
    "    duration: Optional[int] = Field(None, description=\"持续回合数\")\n",
    "\n",
    "class CommandOutput(BaseModel):\n",
    "    card_id: str = Field(..., description=\"卡牌ID\")\n",
    "    effect: CardEffect = Field(..., description=\"卡牌效果\")\n",
    "    description: str = Field(..., description=\"卡牌描述\")"
   ]
  },
  {
   "cell_type": "markdown",
   "metadata": {},
   "source": [
    "## 3. 设置提示模板和输出解析器"
   ]
  },
  {
   "cell_type": "code",
   "execution_count": null,
   "metadata": {},
   "source": [
    "# 创建输出解析器\n",
    "parser = PydanticOutputParser(pydantic_object=CommandOutput)\n",
    "\n",
    "# 创建提示模板\n",
    "template = \"\"\"根据以下卡牌信息生成卡牌效果：\n",
    "卡牌名称: {card_name}\n",
    "卡牌类型: {card_type}\n",
    "费用: {cost}\n",
    "\n",
    "请生成一个符合游戏平衡性的卡牌效果。\n",
    "\n",
    "{format_instructions}\n",
    "\"\"\"\n",
    "\n",
    "prompt = PromptTemplate(\n",
    "    template=template,\n",
    "    input_variables=[\"card_name\", \"card_type\", \"cost\"],\n",
    "    partial_variables={\"format_instructions\": parser.get_format_instructions()}\n",
    ")"
   ]
  },
  {
   "cell_type": "markdown",
   "metadata": {},
   "source": [
    "## 4. 创建 LangChain 链"
   ]
  },
  {
   "cell_type": "code",
   "execution_count": null,
   "metadata": {},
   "source": [
    "# 创建 LangChain 链\n",
    "chain = LLMChain(\n",
    "    llm=llm,\n",
    "    prompt=prompt,\n",
    "    verbose=True\n",
    ")"
   ]
  },
  {
   "cell_type": "markdown",
   "metadata": {},
   "source": [
    "## 5. 生成卡牌效果示例"
   ]
  },
  {
   "cell_type": "code",
   "execution_count": null,
   "metadata": {},
   "source": [
    "# 示例卡牌信息\n",
    "card_info = {\n",
    "    \"card_name\": \"炎魔术士\",\n",
    "    \"card_type\": \"随从\",\n",
    "    \"cost\": 4\n",
    "}\n",
    "\n",
    "# 运行链并获取结果\n",
    "response = chain.run(card_info)\n",
    "\n",
    "# 解析响应\n",
    "try:\n",
    "    card_output = parser.parse(response)\n",
    "    print(\"生成的卡牌效果：\")\n",
    "    print(f\"卡牌ID: {card_output.card_id}\")\n",
    "    print(f\"效果类型: {card_output.effect.effect_type}\")\n",
    "    print(f\"目标类型: {card_output.effect.target_type}\")\n",
    "    print(f\"效果值: {card_output.effect.value}\")\n",
    "    print(f\"描述: {card_output.description}\")\n",
    "except Exception as e:\n",
    "    print(f\"解析错误: {e}\")\n",
    "    print(f\"原始响应: {response}\")"
   ]
  }
 ],
 "metadata": {
  "kernelspec": {
   "display_name": "Python 3",
   "language": "python",
   "name": "python3"
  },
  "language_info": {
   "codemirror_mode": {
    "name": "ipython",
    "version": 3
   },
   "file_extension": ".py",
   "mimetype": "text/x-python",
   "name": "python",
   "nbconvert_exporter": "python",
   "pygments_lexer": "ipython3",
   "version": "3.8.0"
  }
 },
 "nbformat": 4,
 "nbformat_minor": 4
}
