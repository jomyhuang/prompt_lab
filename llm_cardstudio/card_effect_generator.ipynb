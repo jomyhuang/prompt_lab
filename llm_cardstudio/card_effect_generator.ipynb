{
 "cells": [
  {
   "cell_type": "markdown",
   "metadata": {},
   "source": [
    "# 卡牌效果生成器\n",
    "\n",
    "本 Notebook 演示如何使用 LangChain 构建卡牌效果生成系统。我们将使用 Pydantic 模型来定义和验证输出格式，使用 PromptTemplate 来构建提示词。"
   ]
  },
  {
   "cell_type": "code",
   "execution_count": null,
   "metadata": {},
   "source": [
    "# 导入必要的库\n",
    "from typing import Dict, List, Any, Union, Optional\n",
    "from langchain.prompts import PromptTemplate\n",
    "from langchain.output_parsers import PydanticOutputParser\n",
    "from pydantic import BaseModel, Field, validator"
   ]
  },
  {
   "cell_type": "markdown",
   "metadata": {},
   "source": [
    "## 1. 定义数据模型\n",
    "首先定义卡牌效果相关的数据模型"
   ]
  },
  {
   "cell_type": "code",
   "execution_count": null,
   "metadata": {},
   "source": [
    "# 定义卡牌效果类型\n",
    "class CardEffect(BaseModel):\n",
    "    effect_type: str = Field(..., description=\"效果类型\")\n",
    "    target_type: str = Field(..., description=\"目标类型\")\n",
    "    value: Union[int, str] = Field(..., description=\"效果值\")\n",
    "    condition: Optional[str] = Field(None, description=\"触发条件\")\n",
    "    duration: Optional[int] = Field(None, description=\"持续回合数\")\n",
    "\n",
    "# 定义指令参数模型\n",
    "class InstructionParameters(BaseModel):\n",
    "    card_id: Optional[str] = Field(None, description=\"卡牌ID\")\n",
    "    target_position: Optional[str] = Field(None, description=\"目标位置\")\n",
    "    source: Optional[str] = Field(None, description=\"来源位置\")\n",
    "    animation_name: Optional[str] = Field(None, description=\"动画名称\")\n",
    "    target_id: Optional[str] = Field(None, description=\"目标ID\")\n",
    "    value: Optional[int] = Field(None, description=\"数值\")\n",
    "    type: Optional[str] = Field(None, description=\"类型\")\n",
    "    effect: Optional[CardEffect] = Field(None, description=\"卡牌效果\")"
   ]
  },
  {
   "cell_type": "markdown",
   "metadata": {},
   "source": [
    "## 2. 定义指令模型"
   ]
  },
  {
   "cell_type": "code",
   "execution_count": null,
   "metadata": {},
   "source": [
    "class Instruction(BaseModel):\n",
    "    action: str = Field(..., description=\"指令类型\")\n",
    "    parameters: InstructionParameters = Field(..., description=\"指令参数\")\n",
    "    duration: float = Field(..., description=\"执行时长\")\n",
    "    sequence: int = Field(..., description=\"执行序号\")\n",
    "\n",
    "    @validator('action')\n",
    "    def validate_action(cls, v):\n",
    "        valid_actions = [\n",
    "            'MOVE_CARD', 'PLAY_ANIMATION', 'UPDATE_HEALTH',\n",
    "            'SHOW_MESSAGE', 'CREATE_CARD', 'APPLY_EFFECT'\n",
    "        ]\n",
    "        if v not in valid_actions:\n",
    "            raise ValueError(f'动作必须是以下之一: {valid_actions}')\n",
    "        return v"
   ]
  },
  {
   "cell_type": "markdown",
   "metadata": {},
   "source": [
    "## 3. 创建命令生成器"
   ]
  },
  {
   "cell_type": "code",
   "execution_count": null,
   "metadata": {},
   "source": [
    "class CommandOutput(BaseModel):\n",
    "    card_id: str = Field(..., description=\"卡牌ID\")\n",
    "    instructions: List[Instruction] = Field(..., description=\"指令列表\")\n",
    "    state_updates: Dict[str, Any] = Field(..., description=\"状态更新\")\n",
    "\n",
    "class CardCommandGenerator:\n",
    "    def __init__(self):\n",
    "        self.output_parser = PydanticOutputParser(pydantic_object=CommandOutput)\n",
    "        \n",
    "    def generate_command_template(self, action: str):\n",
    "        # 实现命令模板生成逻辑\n",
    "        pass\n",
    "    \n",
    "    def format_prompt(self, game_state: Dict, card_data: Dict, player_action: str):\n",
    "        # 实现提示词格式化逻辑\n",
    "        pass"
   ]
  },
  {
   "cell_type": "markdown",
   "metadata": {},
   "source": [
    "## 4. 示例：生成卡牌效果"
   ]
  },
  {
   "cell_type": "code",
   "execution_count": null,
   "metadata": {},
   "source": [
    "# 创建示例游戏状态\n",
    "game_state = {\n",
    "    \"player_health\": 30,\n",
    "    \"opponent_health\": 30,\n",
    "    \"player_field\": [],\n",
    "    \"opponent_field\": []\n",
    "}\n",
    "\n",
    "# 创建示例卡牌数据\n",
    "card_data = {\n",
    "    \"id\": \"CARD_001\",\n",
    "    \"name\": \"火球术\",\n",
    "    \"type\": \"spell\",\n",
    "    \"cost\": 4,\n",
    "    \"effect\": {\n",
    "        \"type\": \"damage\",\n",
    "        \"value\": 6\n",
    "    }\n",
    "}\n",
    "\n",
    "# 创建命令生成器实例\n",
    "generator = CardCommandGenerator()\n",
    "\n",
    "# 生成命令\n",
    "prompt = generator.format_prompt(game_state, card_data, \"play_card\")\n",
    "print(\"生成的提示词：\\n\", prompt)"
   ]
  }
 ],
 "metadata": {
  "kernelspec": {
   "display_name": "Python 3",
   "language": "python",
   "name": "python3"
  },
  "language_info": {
   "codemirror_mode": {
    "name": "ipython",
    "version": 3
   },
   "file_extension": ".py",
   "mimetype": "text/x-python",
   "name": "python",
   "nbconvert_exporter": "python",
   "pygments_lexer": "ipython3",
   "version": "3.8.0"
  }
 },
 "nbformat": 4,
 "nbformat_minor": 4
}
