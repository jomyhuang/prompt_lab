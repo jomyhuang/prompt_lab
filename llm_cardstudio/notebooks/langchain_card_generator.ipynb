{
 "cells": [
  {
   "cell_type": "markdown",
   "metadata": {},
   "source": [
    "# LangChain 卡牌效果生成器\n",
    "\n",
    "本 notebook 演示如何使用 LangChain 和大语言模型来生成卡牌效果。"
   ]
  },
  {
   "cell_type": "code",
   "execution_count": 1,
   "metadata": {},
   "outputs": [],
   "source": [
    "# 导入必要的库\n",
    "from typing import Dict, List, Any, Union, Optional\n",
    "from langchain.prompts import PromptTemplate\n",
    "from langchain.output_parsers import PydanticOutputParser\n",
    "from langchain.llms import OpenAI\n",
    "from langchain.chat_models import ChatOpenAI\n",
    "from langchain.chains import LLMChain\n",
    "from pydantic import BaseModel, Field, validator\n",
    "import os"
   ]
  },
  {
   "cell_type": "markdown",
   "metadata": {},
   "source": [
    "## 1. 设置环境变量\n",
    "请确保设置了您的 OpenAI API 密钥"
   ]
  },
  {
   "cell_type": "code",
   "execution_count": 2,
   "metadata": {},
   "outputs": [
    {
     "name": "stderr",
     "output_type": "stream",
     "text": [
      "/opt/anaconda3/envs/prompt_lab/lib/python3.10/site-packages/tqdm/auto.py:21: TqdmWarning: IProgress not found. Please update jupyter and ipywidgets. See https://ipywidgets.readthedocs.io/en/stable/user_install.html\n",
      "  from .autonotebook import tqdm as notebook_tqdm\n",
      "/var/folders/rr/jbcshzvx0rncbnyz8vldcddw0000gn/T/ipykernel_74732/1718601070.py:26: LangChainDeprecationWarning: The class `ChatOpenAI` was deprecated in LangChain 0.0.10 and will be removed in 1.0. An updated version of the class exists in the :class:`~langchain-openai package and should be used instead. To use it run `pip install -U :class:`~langchain-openai` and import as `from :class:`~langchain_openai import ChatOpenAI``.\n",
      "  llm = ChatOpenAI(\n"
     ]
    }
   ],
   "source": [
    "import os\n",
    "from dotenv import load_dotenv\n",
    "from langchain_google_genai import GoogleGenerativeAI\n",
    "from langchain.chat_models import ChatOpenAI\n",
    "\n",
    "# 加载.env文件中的环境变量\n",
    "load_dotenv()\n",
    "\n",
    "# 从环境变量中获取API密钥\n",
    "# google_api_key = os.getenv(\"GOOGLE_API_KEY\")\n",
    "# if not google_api_key:\n",
    "#     raise ValueError(\"请在.env文件中设置GOOGLE_API_KEY\")\n",
    "\n",
    "# # 初始化 Gemini 模型\n",
    "# llm = GoogleGenerativeAI(\n",
    "#     model=\"gemini-2.0-flash-exp\",\n",
    "#     temperature=0.7,\n",
    "#     streaming=True\n",
    "# )\n",
    "\n",
    "openai_api_key = os.getenv(\"OPENAI_API_KEY\")\n",
    "openai_baseurl = os.getenv(\"OPENAI_API_BASE\")\n",
    "\n",
    "\n",
    "# 初始化 LLM\n",
    "llm = ChatOpenAI(\n",
    "    temperature=0.7,\n",
    "    model_name=\"gemini-2.0-flash-exp\",\n",
    "    api_key=openai_api_key,\n",
    "    base_url=openai_baseurl\n",
    ")"
   ]
  },
  {
   "cell_type": "markdown",
   "metadata": {},
   "source": [
    "## 2. 定义数据模型"
   ]
  },
  {
   "cell_type": "code",
   "execution_count": 3,
   "metadata": {},
   "outputs": [],
   "source": [
    "class CardEffect(BaseModel):\n",
    "    effect_type: str = Field(..., description=\"效果类型\")\n",
    "    target_type: str = Field(..., description=\"目标类型\")\n",
    "    value: Union[int, str] = Field(..., description=\"效果值\")\n",
    "    condition: Optional[str] = Field(None, description=\"触发条件\")\n",
    "    duration: Optional[int] = Field(None, description=\"持续回合数\")\n",
    "\n",
    "class CommandOutput(BaseModel):\n",
    "    card_id: str = Field(..., description=\"卡牌ID\")\n",
    "    effect: CardEffect = Field(..., description=\"卡牌效果\")\n",
    "    description: str = Field(..., description=\"卡牌描述\")"
   ]
  },
  {
   "cell_type": "markdown",
   "metadata": {},
   "source": [
    "## 3. 设置提示模板和输出解析器"
   ]
  },
  {
   "cell_type": "code",
   "execution_count": 4,
   "metadata": {},
   "outputs": [],
   "source": [
    "# 创建输出解析器\n",
    "parser = PydanticOutputParser(pydantic_object=CommandOutput)\n",
    "\n",
    "# 创建提示模板\n",
    "template = \"\"\"根据以下卡牌信息生成卡牌效果：\n",
    "卡牌名称: {card_name}\n",
    "卡牌类型: {card_type}\n",
    "费用: {cost}\n",
    "\n",
    "请生成一个符合游戏平衡性的卡牌效果。\n",
    "\n",
    "{format_instructions}\n",
    "\"\"\"\n",
    "\n",
    "prompt = PromptTemplate(\n",
    "    template=template,\n",
    "    input_variables=[\"card_name\", \"card_type\", \"cost\"],\n",
    "    partial_variables={\"format_instructions\": parser.get_format_instructions()}\n",
    ")"
   ]
  },
  {
   "cell_type": "markdown",
   "metadata": {},
   "source": [
    "## 4. 创建 LangChain 链"
   ]
  },
  {
   "cell_type": "code",
   "execution_count": 5,
   "metadata": {},
   "outputs": [
    {
     "name": "stderr",
     "output_type": "stream",
     "text": [
      "/var/folders/rr/jbcshzvx0rncbnyz8vldcddw0000gn/T/ipykernel_74732/3628683866.py:2: LangChainDeprecationWarning: The class `LLMChain` was deprecated in LangChain 0.1.17 and will be removed in 1.0. Use :meth:`~RunnableSequence, e.g., `prompt | llm`` instead.\n",
      "  chain = LLMChain(\n"
     ]
    }
   ],
   "source": [
    "# 创建 LangChain 链\n",
    "chain = LLMChain(\n",
    "    llm=llm,\n",
    "    prompt=prompt,\n",
    "    verbose=True\n",
    ")"
   ]
  },
  {
   "cell_type": "markdown",
   "metadata": {},
   "source": [
    "## 5. 生成卡牌效果示例"
   ]
  },
  {
   "cell_type": "code",
   "execution_count": 6,
   "metadata": {},
   "outputs": [
    {
     "name": "stdout",
     "output_type": "stream",
     "text": [
      "\n",
      "\n",
      "\u001b[1m> Entering new LLMChain chain...\u001b[0m\n",
      "Prompt after formatting:\n",
      "\u001b[32;1m\u001b[1;3m根据以下卡牌信息生成卡牌效果：\n",
      "卡牌名称: 炎魔术士\n",
      "卡牌类型: 随从\n",
      "费用: 4\n",
      "\n",
      "请生成一个符合游戏平衡性的卡牌效果。\n",
      "\n",
      "The output should be formatted as a JSON instance that conforms to the JSON schema below.\n",
      "\n",
      "As an example, for the schema {\"properties\": {\"foo\": {\"title\": \"Foo\", \"description\": \"a list of strings\", \"type\": \"array\", \"items\": {\"type\": \"string\"}}}, \"required\": [\"foo\"]}\n",
      "the object {\"foo\": [\"bar\", \"baz\"]} is a well-formatted instance of the schema. The object {\"properties\": {\"foo\": [\"bar\", \"baz\"]}} is not well-formatted.\n",
      "\n",
      "Here is the output schema:\n",
      "```\n",
      "{\"$defs\": {\"CardEffect\": {\"properties\": {\"effect_type\": {\"description\": \"效果类型\", \"title\": \"Effect Type\", \"type\": \"string\"}, \"target_type\": {\"description\": \"目标类型\", \"title\": \"Target Type\", \"type\": \"string\"}, \"value\": {\"anyOf\": [{\"type\": \"integer\"}, {\"type\": \"string\"}], \"description\": \"效果值\", \"title\": \"Value\"}, \"condition\": {\"anyOf\": [{\"type\": \"string\"}, {\"type\": \"null\"}], \"default\": null, \"description\": \"触发条件\", \"title\": \"Condition\"}, \"duration\": {\"anyOf\": [{\"type\": \"integer\"}, {\"type\": \"null\"}], \"default\": null, \"description\": \"持续回合数\", \"title\": \"Duration\"}}, \"required\": [\"effect_type\", \"target_type\", \"value\"], \"title\": \"CardEffect\", \"type\": \"object\"}}, \"properties\": {\"card_id\": {\"description\": \"卡牌ID\", \"title\": \"Card Id\", \"type\": \"string\"}, \"effect\": {\"$ref\": \"#/$defs/CardEffect\", \"description\": \"卡牌效果\"}, \"description\": {\"description\": \"卡牌描述\", \"title\": \"Description\", \"type\": \"string\"}}, \"required\": [\"card_id\", \"effect\", \"description\"]}\n",
      "```\n",
      "\u001b[0m\n",
      "\n",
      "\u001b[1m> Finished chain.\u001b[0m\n",
      "解析错误: 1 validation error for Generation\n",
      "text\n",
      "  Input should be a valid string [type=string_type, input_value={'card_name': '炎魔术...伤害。\"\\n}\\n```\\n'}, input_type=dict]\n",
      "    For further information visit https://errors.pydantic.dev/2.10/v/string_type\n",
      "原始响应: {'card_name': '炎魔术士', 'card_type': '随从', 'cost': 4, 'text': '```json\\n{\\n  \"card_id\": \"炎魔术士_001\",\\n  \"effect\": {\\n    \"effect_type\": \"damage\",\\n    \"target_type\": \"enemy_minion\",\\n    \"value\": 3,\\n      \"condition\": null,\\n      \"duration\": null\\n  },\\n  \"description\": \"战吼：对一个敌方随从造成3点伤害。\"\\n}\\n```\\n'}\n"
     ]
    }
   ],
   "source": [
    "# 示例卡牌信息\n",
    "card_info = {\n",
    "    \"card_name\": \"炎魔术士\",\n",
    "    \"card_type\": \"随从\",\n",
    "    \"cost\": 4\n",
    "}\n",
    "\n",
    "# 运行链并获取结果\n",
    "response = chain.invoke(card_info)\n",
    "\n",
    "# 解析响应\n",
    "try:\n",
    "    card_output = parser.parse(response)\n",
    "    print(\"生成的卡牌效果：\")\n",
    "    print(f\"卡牌ID: {card_output.card_id}\")\n",
    "    print(f\"效果类型: {card_output.effect.effect_type}\")\n",
    "    print(f\"目标类型: {card_output.effect.target_type}\")\n",
    "    print(f\"效果值: {card_output.effect.value}\")\n",
    "    print(f\"描述: {card_output.description}\")\n",
    "except Exception as e:\n",
    "    print(f\"解析错误: {e}\")\n",
    "    print(f\"原始响应: {response}\")"
   ]
  }
 ],
 "metadata": {
  "kernelspec": {
   "display_name": "prompt_lab",
   "language": "python",
   "name": "python3"
  },
  "language_info": {
   "codemirror_mode": {
    "name": "ipython",
    "version": 3
   },
   "file_extension": ".py",
   "mimetype": "text/x-python",
   "name": "python",
   "nbconvert_exporter": "python",
   "pygments_lexer": "ipython3",
   "version": "3.10.15"
  }
 },
 "nbformat": 4,
 "nbformat_minor": 4
}
