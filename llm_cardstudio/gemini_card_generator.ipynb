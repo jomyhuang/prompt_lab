{
 "cells": [
  {
   "cell_type": "markdown",
   "metadata": {},
   "source": [
    "# 使用 Google Gemini 和 LangChain 的卡牌效果生成器\n",
    "\n",
    "本 notebook 演示如何使用 Google Gemini 模型通过 LangChain 来生成卡牌效果。"
   ]
  },
  {
   "cell_type": "code",
   "execution_count": null,
   "metadata": {},
   "source": [
    "# 导入必要的库\n",
    "from typing import Dict, List, Any, Union, Optional\n",
    "from langchain_google_genai import GoogleGenerativeAI\n",
    "from langchain.prompts import PromptTemplate\n",
    "from langchain.output_parsers import PydanticOutputParser\n",
    "from langchain.chains import LLMChain\n",
    "from pydantic import BaseModel, Field, validator\n",
    "import os\n",
    "\n",
    "# 如果需要，安装必要的包\n",
    "# !pip install langchain-google-genai google-generativeai"
   ]
  },
  {
   "cell_type": "markdown",
   "metadata": {},
   "source": [
    "## 1. 设置环境变量\n",
    "请确保设置了您的 Google API 密钥"
   ]
  },
  {
   "cell_type": "code",
   "execution_count": null,
   "metadata": {},
   "source": [
    "# 设置 Google API 密钥\n",
    "# os.environ[\"GOOGLE_API_KEY\"] = \"your-api-key-here\"\n",
    "\n",
    "# 初始化 Gemini 模型\n",
    "llm = GoogleGenerativeAI(\n",
    "    model=\"gemini-pro\",\n",
    "    temperature=0.7,\n",
    "    top_p=0.8,\n",
    "    top_k=40,\n",
    "    max_output_tokens=2048\n",
    ")"
   ]
  },
  {
   "cell_type": "markdown",
   "metadata": {},
   "source": [
    "## 2. 定义数据模型"
   ]
  },
  {
   "cell_type": "code",
   "execution_count": null,
   "metadata": {},
   "source": [
    "class CardEffect(BaseModel):\n",
    "    effect_type: str = Field(..., description=\"效果类型，例如：伤害、治疗、buff等\")\n",
    "    target_type: str = Field(..., description=\"目标类型，例如：单体、全体、随机等\")\n",
    "    value: Union[int, str] = Field(..., description=\"效果值，可以是数值或特殊效果描述\")\n",
    "    condition: Optional[str] = Field(None, description=\"触发条件，如果有的话\")\n",
    "    duration: Optional[int] = Field(None, description=\"持续回合数，如果是持续效果\")\n",
    "\n",
    "class CommandOutput(BaseModel):\n",
    "    card_id: str = Field(..., description=\"卡牌的唯一标识符\")\n",
    "    effect: CardEffect = Field(..., description=\"卡牌的效果详情\")\n",
    "    description: str = Field(..., description=\"卡牌效果的文字描述\")"
   ]
  },
  {
   "cell_type": "markdown",
   "metadata": {},
   "source": [
    "## 3. 设置提示模板和输出解析器"
   ]
  },
  {
   "cell_type": "code",
   "execution_count": null,
   "metadata": {},
   "source": [
    "# 创建输出解析器\n",
    "parser = PydanticOutputParser(pydantic_object=CommandOutput)\n",
    "\n",
    "# 创建提示模板\n",
    "template = \"\"\"你是一个卡牌游戏设计专家。请根据以下卡牌信息生成合适的卡牌效果：\n",
    "\n",
    "卡牌名称: {card_name}\n",
    "卡牌类型: {card_type}\n",
    "费用: {cost}\n",
    "\n",
    "要求：\n",
    "1. 效果要平衡，不能过强或过弱\n",
    "2. 效果要有趣且符合卡牌主题\n",
    "3. 描述要清晰易懂\n",
    "\n",
    "{format_instructions}\n",
    "\"\"\"\n",
    "\n",
    "prompt = PromptTemplate(\n",
    "    template=template,\n",
    "    input_variables=[\"card_name\", \"card_type\", \"cost\"],\n",
    "    partial_variables={\"format_instructions\": parser.get_format_instructions()}\n",
    ")"
   ]
  },
  {
   "cell_type": "markdown",
   "metadata": {},
   "source": [
    "## 4. 创建 LangChain 链"
   ]
  },
  {
   "cell_type": "code",
   "execution_count": null,
   "metadata": {},
   "source": [
    "# 创建 LangChain 链\n",
    "chain = LLMChain(\n",
    "    llm=llm,\n",
    "    prompt=prompt,\n",
    "    verbose=True\n",
    ")"
   ]
  },
  {
   "cell_type": "markdown",
   "metadata": {},
   "source": [
    "## 5. 生成卡牌效果示例"
   ]
  },
  {
   "cell_type": "code",
   "execution_count": null,
   "metadata": {},
   "source": [
    "# 示例卡牌信息\n",
    "card_info = {\n",
    "    \"card_name\": \"冰霜巨龙\",\n",
    "    \"card_type\": \"随从\",\n",
    "    \"cost\": 8\n",
    "}\n",
    "\n",
    "# 运行链并获取结果\n",
    "response = chain.run(card_info)\n",
    "\n",
    "# 解析响应\n",
    "try:\n",
    "    card_output = parser.parse(response)\n",
    "    print(\"\\n生成的卡牌效果：\")\n",
    "    print(f\"卡牌ID: {card_output.card_id}\")\n",
    "    print(\"\\n效果详情:\")\n",
    "    print(f\"- 效果类型: {card_output.effect.effect_type}\")\n",
    "    print(f\"- 目标类型: {card_output.effect.target_type}\")\n",
    "    print(f\"- 效果值: {card_output.effect.value}\")\n",
    "    if card_output.effect.condition:\n",
    "        print(f\"- 触发条件: {card_output.effect.condition}\")\n",
    "    if card_output.effect.duration:\n",
    "        print(f\"- 持续回合: {card_output.effect.duration}\")\n",
    "    print(f\"\\n卡牌描述: {card_output.description}\")\n",
    "except Exception as e:\n",
    "    print(f\"解析错误: {e}\")\n",
    "    print(f\"原始响应: {response}\")"
   ]
  },
  {
   "cell_type": "markdown",
   "metadata": {},
   "source": [
    "## 6. 批量生成多个卡牌效果"
   ]
  },
  {
   "cell_type": "code",
   "execution_count": null,
   "metadata": {},
   "source": [
    "# 批量生成多个卡牌效果\n",
    "card_list = [\n",
    "    {\"card_name\": \"火焰术士\", \"card_type\": \"随从\", \"cost\": 3},\n",
    "    {\"card_name\": \"治愈之光\", \"card_type\": \"法术\", \"cost\": 2},\n",
    "    {\"card_name\": \"战争古树\", \"card_type\": \"随从\", \"cost\": 5}\n",
    "]\n",
    "\n",
    "def generate_cards(card_list):\n",
    "    results = []\n",
    "    for card in card_list:\n",
    "        try:\n",
    "            response = chain.run(card)\n",
    "            card_output = parser.parse(response)\n",
    "            results.append(card_output)\n",
    "        except Exception as e:\n",
    "            print(f\"处理卡牌 {card['card_name']} 时出错: {e}\")\n",
    "    return results\n",
    "\n",
    "# 生成卡牌\n",
    "generated_cards = generate_cards(card_list)\n",
    "\n",
    "# 显示结果\n",
    "for card in generated_cards:\n",
    "    print(f\"\\n{'='*50}\")\n",
    "    print(f\"卡牌: {card.card_id}\")\n",
    "    print(f\"效果: {card.effect.effect_type} - {card.effect.value}\")\n",
    "    print(f\"描述: {card.description}\")"
   ]
  }
 ],
 "metadata": {
  "kernelspec": {
   "display_name": "Python 3",
   "language": "python",
   "name": "python3"
  },
  "language_info": {
   "codemirror_mode": {
    "name": "ipython",
    "version": 3
   },
   "file_extension": ".py",
   "mimetype": "text/x-python",
   "name": "python",
   "nbconvert_exporter": "python",
   "pygments_lexer": "ipython3",
   "version": "3.8.0"
  }
 },
 "nbformat": 4,
 "nbformat_minor": 4
}
