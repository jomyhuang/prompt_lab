{
 "cells": [
  {
   "cell_type": "code",
   "execution_count": 1,
   "metadata": {},
   "outputs": [
    {
     "ename": "AttributeError",
     "evalue": "'StateGraph' object has no attribute 'invoke'",
     "output_type": "error",
     "traceback": [
      "\u001b[1;31m---------------------------------------------------------------------------\u001b[0m",
      "\u001b[1;31mAttributeError\u001b[0m                            Traceback (most recent call last)",
      "Cell \u001b[1;32mIn[1], line 32\u001b[0m\n\u001b[0;32m     30\u001b[0m \u001b[38;5;66;03m# 执行图\u001b[39;00m\n\u001b[0;32m     31\u001b[0m initial_state \u001b[38;5;241m=\u001b[39m {\u001b[38;5;124m\"\u001b[39m\u001b[38;5;124mmessages\u001b[39m\u001b[38;5;124m\"\u001b[39m: [], \u001b[38;5;124m\"\u001b[39m\u001b[38;5;124muser_response\u001b[39m\u001b[38;5;124m\"\u001b[39m: \u001b[38;5;124m\"\u001b[39m\u001b[38;5;124m\"\u001b[39m}\n\u001b[1;32m---> 32\u001b[0m \u001b[43mgraph\u001b[49m\u001b[38;5;241;43m.\u001b[39;49m\u001b[43minvoke\u001b[49m(initial_state)\n",
      "\u001b[1;31mAttributeError\u001b[0m: 'StateGraph' object has no attribute 'invoke'"
     ]
    }
   ],
   "source": [
    "from langgraph.graph import StateGraph\n",
    "from typing import TypedDict\n",
    "\n",
    "class State(TypedDict):\n",
    "    messages: list[str]\n",
    "    user_response: str\n",
    "\n",
    "graph = StateGraph(State)\n",
    "\n",
    "def human_node(state: State):\n",
    "    user_input = interrupt(\"请输入您的消息：\")\n",
    "    state['user_response'] = user_input  # 存储用户输入\n",
    "    return state\n",
    "\n",
    "def process_response_node(state: State):\n",
    "    if state['user_response'] == \"继续\":\n",
    "        state['messages'].append(\"用户选择继续。\")\n",
    "    else:\n",
    "        state['messages'].append(\"用户选择停止。\")\n",
    "    return state\n",
    "\n",
    "# 添加节点到图\n",
    "graph.add_node(\"human_node\", human_node)\n",
    "graph.add_node(\"process_response\", process_response_node)\n",
    "\n",
    "# 设置执行顺序\n",
    "graph.set_entry_point(\"human_node\")\n",
    "graph.add_edge(\"human_node\", \"process_response\")\n",
    "\n",
    "# 执行图\n",
    "initial_state = {\"messages\": [], \"user_response\": \"\"}\n",
    "graph.invoke(initial_state)"
   ]
  }
 ],
 "metadata": {
  "kernelspec": {
   "display_name": "prompt_lab",
   "language": "python",
   "name": "python3"
  },
  "language_info": {
   "codemirror_mode": {
    "name": "ipython",
    "version": 3
   },
   "file_extension": ".py",
   "mimetype": "text/x-python",
   "name": "python",
   "nbconvert_exporter": "python",
   "pygments_lexer": "ipython3",
   "version": "3.9.20"
  }
 },
 "nbformat": 4,
 "nbformat_minor": 2
}
